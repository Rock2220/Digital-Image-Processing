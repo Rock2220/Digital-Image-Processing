{
  "nbformat": 4,
  "nbformat_minor": 0,
  "metadata": {
    "colab": {
      "name": "DIP_Hist_Eq.ipynb",
      "provenance": [],
      "collapsed_sections": []
    },
    "kernelspec": {
      "name": "python3",
      "display_name": "Python 3"
    }
  },
  "cells": [
    {
      "cell_type": "code",
      "metadata": {
        "id": "2fzXZNds-ZOC",
        "outputId": "532c5849-241f-4ef9-b13c-09aa435262f8",
        "colab": {
          "base_uri": "https://localhost:8080/"
        }
      },
      "source": [
        "# Histogram Equalization\n",
        "\n",
        "# Importing Libraries\n",
        "import cv2 as cv\n",
        "import numpy as np \n",
        "import matplotlib.pyplot as plt\n",
        "from google.colab.patches import cv2_imshow \n",
        "  \n",
        "# Read an image using imread \n",
        "img = cv.imread(\"/media/cameraman.png\", 0) \n",
        "  \n",
        "# Creating a Histograms Equalization using cv2.equalizeHist() \n",
        "equ = cv.equalizeHist(img) \n",
        "  \n",
        "# Stacking images side-by-side \n",
        "res = np.hstack((img, equ)) \n",
        "  \n",
        "# Show image input vs output \n",
        "# cv.imshow(\"cameraman.png\", res) \n",
        "# cv.waitKey(0) \n",
        "\n",
        "# Show image input vs output. Google Colab code :  \n",
        "cv2_imshow(res) \n",
        "cv.imwrite(\"/media/res.png\", res)\n",
        "\n",
        "# Histogram Calculation in Numpy\n",
        "hist, bins = np.histogram(img.ravel(), 256, [0,256])\n",
        "\n",
        "# Histogram Calculation in OpenCV (Find frequency of pixels in range 0-255)\n",
        "# [img] : images : it is the source image of type uint8 or float32.\n",
        "# [0]   : channels,  It is the index of channel for which we calculate histogram. [0] Grayscale Image/Blue, [1] Green, [2] Red\n",
        "# None  : mask  : mask image. To find histogram of full image, it is given as \"None\".... \n",
        "# But if you want to find histogram of particular region of image, you have to create a mask image for that and give it as mask.\n",
        "# [256] : histSize : this represents our BIN count. Need to be given in square brackets. For full scale, we pass [256].\n",
        "# [0, 256]\n",
        "histr = cv.calcHist([img], [0], None, [256], [0, 256]))\n",
        "\n",
        "# hist is a 256x1 array, each value corresponds to number of pixels in that image with its corresponding pixel value.\n",
        "\n",
        "# Plotting Histogram \n",
        "plt.hist(img.ravel(), 256, [0, 256])\n",
        "plt.show()\n",
        "\n",
        "# Plotting graph of an image \n",
        "plt.plot(histr)\n",
        "plt.show()\n",
        "print(histr)"
      ],
      "execution_count": 37,
      "outputs": [
        {
          "output_type": "stream",
          "text": [
            "1353.0\n"
          ],
          "name": "stdout"
        }
      ]
    }
  ]
}